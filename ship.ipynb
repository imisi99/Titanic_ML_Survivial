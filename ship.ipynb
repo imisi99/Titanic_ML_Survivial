{
 "cells": [
  {
   "cell_type": "markdown",
   "id": "50eb14673e0c24bb",
   "metadata": {},
   "source": [
    "This is a Logistic Regression model for the prediction of Survival in the Titanic Ship"
   ]
  },
  {
   "cell_type": "code",
   "execution_count": 22,
   "id": "935cd7cfeb5f8788",
   "metadata": {
    "ExecuteTime": {
     "end_time": "2024-11-07T16:29:16.091040Z",
     "start_time": "2024-11-07T16:29:16.079563Z"
    }
   },
   "outputs": [],
   "source": [
    "import numpy as np\n",
    "import matplotlib.pyplot as plt\n",
    "import pandas as pd\n",
    "from sklearn.linear_model import LogisticRegression\n",
    "from sklearn.preprocessing import StandardScaler, PolynomialFeatures\n",
    "from sklearn.model_selection import train_test_split\n",
    "from sklearn.metrics import precision_score, recall_score, f1_score, accuracy_score\n",
    "from utils import *\n",
    "\n",
    "plt.style.use('deeplearning.mplstyle')"
   ]
  },
  {
   "cell_type": "code",
   "execution_count": 23,
   "id": "9956b849a1d6f974",
   "metadata": {
    "ExecuteTime": {
     "end_time": "2024-11-07T16:29:16.882862Z",
     "start_time": "2024-11-07T16:29:16.679396Z"
    }
   },
   "outputs": [
    {
     "data": {
      "image/png": "[encoded data removed]",
      "text/plain": [
       "<Figure size 1200x800 with 1 Axes>"
      ]
     },
     "metadata": {},
     "output_type": "display_data"
    }
   ],
   "source": [
    "# Visualization of data\n",
    "file_path = './data/train.csv'\n",
    "pdv = pd.read_csv(file_path)\n",
    "plt.scatter(pdv['Age'], pdv['Survived'])\n",
    "plt.xlabel('Age')\n",
    "plt.ylabel('Survived')\n",
    "plt.show()"
   ]
  },
  {
   "cell_type": "code",
   "execution_count": 24,
   "id": "1b028f1538ffed46",
   "metadata": {
    "ExecuteTime": {
     "end_time": "2024-11-07T16:29:17.599312Z",
     "start_time": "2024-11-07T16:29:17.559058Z"
    }
   },
   "outputs": [
    {
     "name": "stdout",
     "output_type": "stream",
     "text": [
      "data before processing...\n",
      "   PassengerId  Survived  Pclass  \\\n",
      "0            1         0       3   \n",
      "1            2         1       1   \n",
      "2            3         1       3   \n",
      "3            4         1       1   \n",
      "4            5         0       3   \n",
      "\n",
      "                                                Name     Sex   Age  SibSp  \\\n",
      "0                            Braund, Mr. Owen Harris    male  22.0      1   \n",
      "1  Cumings, Mrs. John Bradley (Florence Briggs Th...  female  38.0      1   \n",
      "2                             Heikkinen, Miss. Laina  female  26.0      0   \n",
      "3       Futrelle, Mrs. Jacques Heath (Lily May Peel)  female  35.0      1   \n",
      "4                           Allen, Mr. William Henry    male  35.0      0   \n",
      "\n",
      "   Parch            Ticket     Fare Cabin Embarked  \n",
      "0      0         A/5 21171   7.2500   NaN        S  \n",
      "1      0          PC 17599  71.2833   C85        C  \n",
      "2      0  STON/O2. 3101282   7.9250   NaN        S  \n",
      "3      0            113803  53.1000  C123        S  \n",
      "4      0            373450   8.0500   NaN        S  \n",
      "data after processing...\n",
      "   Survived   Age     Fare  Embarked_Q  Embarked_S  Embarked_Unknown  Parch_1  \\\n",
      "0         0  22.0   7.2500       False        True             False    False   \n",
      "1         1  38.0  71.2833       False       False             False    False   \n",
      "2         1  26.0   7.9250       False        True             False    False   \n",
      "3         1  35.0  53.1000       False        True             False    False   \n",
      "4         0  35.0   8.0500       False        True             False    False   \n",
      "\n",
      "   Parch_2  Parch_3  Parch_4  ...  Pclass_3  Cabin_B  Cabin_C  Cabin_D  \\\n",
      "0    False    False    False  ...      True    False    False    False   \n",
      "1    False    False    False  ...     False    False     True    False   \n",
      "2    False    False    False  ...      True    False    False    False   \n",
      "3    False    False    False  ...     False    False     True    False   \n",
      "4    False    False    False  ...      True    False    False    False   \n",
      "\n",
      "   Cabin_E  Cabin_F  Cabin_G  Cabin_T  Cabin_U  Sex_male  \n",
      "0    False    False    False    False     True      True  \n",
      "1    False    False    False    False    False     False  \n",
      "2    False    False    False    False     True     False  \n",
      "3    False    False    False    False    False     False  \n",
      "4    False    False    False    False     True      True  \n",
      "\n",
      "[5 rows x 29 columns]\n"
     ]
    }
   ],
   "source": [
    "# Preprocessing data\n",
    "df = modify_data(file_path)"
   ]
  },
  {
   "cell_type": "code",
   "execution_count": 25,
   "id": "5b018717628bb7c4",
   "metadata": {
    "ExecuteTime": {
     "end_time": "2024-11-07T16:29:18.349494Z",
     "start_time": "2024-11-07T16:29:18.329059Z"
    }
   },
   "outputs": [
    {
     "name": "stdout",
     "output_type": "stream",
     "text": [
      "The X train and X cv are: (712, 28), (179, 28)\n",
      "The y train and y cv are: (712,), (179,)\n"
     ]
    }
   ],
   "source": [
    "# Splitting data into train and cross validation\n",
    "X = df.drop(['Survived'], axis=1)\n",
    "y = df['Survived']\n",
    "\n",
    "X_train, X_cv, y_train, y_cv = train_test_split(X, y, test_size=0.2, random_state=42)\n",
    "\n",
    "print(f'The X train and X cv are: {X_train.shape}, {X_cv.shape}')\n",
    "print(f'The y train and y cv are: {y_train.shape}, {y_cv.shape}')\n"
   ]
  },
  {
   "cell_type": "code",
   "execution_count": 26,
   "id": "feea9ecce24e4a9c",
   "metadata": {
    "ExecuteTime": {
     "end_time": "2024-11-07T16:29:20.565976Z",
     "start_time": "2024-11-07T16:29:19.508967Z"
    }
   },
   "outputs": [
    {
     "name": "stdout",
     "output_type": "stream",
     "text": [
      "Training Model with degree 1\n",
      "Training Model with degree 2\n",
      "Training Model with degree 3\n",
      "Results: \n",
      "For degree 1 the metrics are f1 score: [0.73921971 0.76056338], precision: [0.82191781 0.79411765], recall: [0.67164179 0.72972973], accuracy: [0.82162921 0.81005587]\n",
      "For degree 2 the metrics are f1 score: [0.80679406 0.74452555], precision: [0.93596059 0.80952381], recall: [0.70895522 0.68918919], accuracy: [0.87219101 0.80446927]\n",
      "For degree 3 the metrics are f1 score: [0.83950617 0.74285714], precision: [0.93577982 0.78787879], recall: [0.76119403 0.7027027 ], accuracy: [0.89044944 0.79888268]\n",
      "[0 0 0 0 0 0 0 0 0 1]\n"
     ]
    }
   ],
   "source": [
    "# Building a Logistic Regression Model\n",
    "degree = 3\n",
    "models = []\n",
    "polys = []\n",
    "scalers = []\n",
    "accuracy_scores = np.zeros((degree, 2))\n",
    "threshold = 0.6\n",
    "for i in range(1, degree + 1):\n",
    "    print(f'Training Model with degree {i}')\n",
    "    poly = PolynomialFeatures(degree=i, include_bias=False)\n",
    "    X_train_poly = poly.fit_transform(X_train)\n",
    "    X_cv_poly = poly.transform(X_cv)\n",
    "    polys.append(poly)\n",
    "    \n",
    "    scaler = StandardScaler()\n",
    "    X_train_mapp = scaler.fit_transform(X_train_poly)\n",
    "    X_cv_mapp = scaler.transform(X_cv_poly)\n",
    "    scalers.append(scaler)\n",
    "    \n",
    "    model = LogisticRegression(max_iter=1000)\n",
    "    model.fit(X_train_mapp, y_train)\n",
    "    models.append(model)\n",
    "    \n",
    "    yhat = model.predict_proba(X_train_mapp)[:, 1]\n",
    "    yhat = np.where(yhat >= threshold, 1, 0)\n",
    "    accuracy_scores[i-1, 0] = accuracy_score(y_train, yhat)\n",
    "    \n",
    "    yhat_cv = model.predict_proba(X_cv_mapp)[:, 1]\n",
    "    yhat_cv = np.where(yhat_cv >= threshold, 1, 0)\n",
    "    accuracy_scores[i-1, 1] = accuracy_score(y_cv, yhat_cv)\n",
    "    \n",
    "print('Results: ')\n",
    "for i in range (degree): \n",
    "    print(f'Degree {i+1}: Accuracy Score: {accuracy_scores[i]}')"
   ]
  },
  {
   "cell_type": "code",
   "execution_count": 28,
   "id": "81b061f59f2a22ca",
   "metadata": {
    "ExecuteTime": {
     "end_time": "2024-11-07T16:29:21.379962Z",
     "start_time": "2024-11-07T16:29:21.348920Z"
    }
   },
   "outputs": [
    {
     "name": "stdout",
     "output_type": "stream",
     "text": [
      "[[ 1.22920747 -0.07868358 -0.30335547  0.59681695 -0.05307449 -0.39000456\n",
      "  -0.32229795 -0.06504853 -0.06504853 -0.06504853 -0.03750293 -0.54705582\n",
      "  -0.18270663 -0.13637447 -0.15161961 -0.08409599 -0.09964476 -0.51880845\n",
      "  -1.1258401  -0.23744436  3.56262652 -0.16558088 -0.18677184 -0.13093073\n",
      "  -0.06504853 -0.03750293 -1.8649363   0.7243102 ]\n",
      " [-0.50350514 -0.37714494 -0.30335547  0.59681695 -0.05307449 -0.39000456\n",
      "  -0.32229795 -0.06504853 -0.06504853 -0.06504853 -0.03750293 -0.54705582\n",
      "  -0.18270663 -0.13637447 -0.15161961 -0.08409599 -0.09964476  1.92749365\n",
      "  -1.1258401  -0.23744436 -0.28069179 -0.16558088 -0.18677184 -0.13093073\n",
      "  -0.06504853 -0.03750293  0.53621134  0.7243102 ]\n",
      " [ 0.18957991 -0.47486697 -0.30335547  0.59681695 -0.05307449 -0.39000456\n",
      "  -0.32229795 -0.06504853 -0.06504853 -0.06504853 -0.03750293 -0.54705582\n",
      "  -0.18270663 -0.13637447 -0.15161961 -0.08409599 -0.09964476 -0.51880845\n",
      "   0.8882256  -0.23744436 -0.28069179 -0.16558088 -0.18677184 -0.13093073\n",
      "  -0.06504853 -0.03750293  0.53621134  0.7243102 ]]\n",
      "[[ 0.01239022 -0.33390078 -0.30335547 -1.67555562 -0.05307449  2.56407256\n",
      "  -0.32229795 -0.06504853 -0.06504853 -0.06504853 -0.03750293  1.82796702\n",
      "  -0.18270663 -0.13637447 -0.15161961 -0.08409599 -0.09964476 -0.51880845\n",
      "   0.8882256  -0.23744436 -0.28069179 -0.16558088 -0.18677184 -0.13093073\n",
      "  -0.06504853 -0.03750293  0.53621134  0.7243102 ]\n",
      " [ 0.11257046 -0.42528387 -0.30335547  0.59681695 -0.05307449 -0.39000456\n",
      "  -0.32229795 -0.06504853 -0.06504853 -0.06504853 -0.03750293 -0.54705582\n",
      "  -0.18270663 -0.13637447 -0.15161961 -0.08409599 -0.09964476  1.92749365\n",
      "  -1.1258401  -0.23744436 -0.28069179 -0.16558088 -0.18677184 -0.13093073\n",
      "  -0.06504853 -0.03750293  0.53621134  0.7243102 ]\n",
      " [-0.73453348 -0.47486697 -0.30335547  0.59681695 -0.05307449 -0.39000456\n",
      "  -0.32229795 -0.06504853 -0.06504853 -0.06504853 -0.03750293 -0.54705582\n",
      "  -0.18270663 -0.13637447 -0.15161961 -0.08409599 -0.09964476 -0.51880845\n",
      "   0.8882256  -0.23744436 -0.28069179 -0.16558088 -0.18677184 -0.13093073\n",
      "  -0.06504853 -0.03750293  0.53621134  0.7243102 ]]\n"
     ]
    }
   ],
   "source": [
    "# Scaling the training input\n",
    "scaler_nn = StandardScaler()\n",
    "X_train_nn = scaler_nn.fit_transform(X_train)\n",
    "X_cv_nn = scaler_nn.transform(X_cv)"
   ]
  },
  {
   "cell_type": "code",
   "execution_count": 39,
   "id": "47d3a6f7392416cc",
   "metadata": {
    "ExecuteTime": {
     "end_time": "2024-11-07T17:06:31.930266Z",
     "start_time": "2024-11-07T17:05:35.091266Z"
    }
   },
   "outputs": [
    {
     "name": "stdout",
     "output_type": "stream",
     "text": [
      "Training model1...\n",
      "Done Training model1 \n",
      " \n",
      "\u001B[1m23/23\u001B[0m \u001B[32m━━━━━━━━━━━━━━━━━━━━\u001B[0m\u001B[37m\u001B[0m \u001B[1m0s\u001B[0m 5ms/step\n",
      "\u001B[1m6/6\u001B[0m \u001B[32m━━━━━━━━━━━━━━━━━━━━\u001B[0m\u001B[37m\u001B[0m \u001B[1m0s\u001B[0m 0s/step  \n",
      "Training model2...\n",
      "Done Training model2 \n",
      " \n",
      "\u001B[1m23/23\u001B[0m \u001B[32m━━━━━━━━━━━━━━━━━━━━\u001B[0m\u001B[37m\u001B[0m \u001B[1m0s\u001B[0m 4ms/step\n",
      "\u001B[1m6/6\u001B[0m \u001B[32m━━━━━━━━━━━━━━━━━━━━\u001B[0m\u001B[37m\u001B[0m \u001B[1m0s\u001B[0m 3ms/step \n",
      "Training model3...\n",
      "Done Training model3 \n",
      " \n",
      "\u001B[1m23/23\u001B[0m \u001B[32m━━━━━━━━━━━━━━━━━━━━\u001B[0m\u001B[37m\u001B[0m \u001B[1m0s\u001B[0m 5ms/step\n",
      "\u001B[1m6/6\u001B[0m \u001B[32m━━━━━━━━━━━━━━━━━━━━\u001B[0m\u001B[37m\u001B[0m \u001B[1m0s\u001B[0m 2ms/step \n",
      "For model1 the metrics are f1 score: [0.8647541  0.70921986], precision: [0.95909091 0.74626866], recall: [0.78731343 0.67567568], accuracy: [0.90730337 0.79888268]\n",
      "For model2 the metrics are f1 score: [0.81425891 0.76      ], precision: [0.81886792 0.75      ], recall: [0.80970149 0.77027027], accuracy: [0.86095506 0.58659218]\n",
      "For model3 the metrics are f1 score: [0. 0.], precision: [0. 0.], recall: [0. 0.], accuracy: [0.62359551 0.77094972]\n"
     ]
    },
    {
     "name": "stderr",
     "output_type": "stream",
     "text": [
      "C:\\Users\\USER\\AppData\\Local\\JetBrains\\PyCharm2024.1\\demo\\PyCharmLearningProject\\venv\\Lib\\site-packages\\sklearn\\metrics\\_classification.py:1531: UndefinedMetricWarning: Precision is ill-defined and being set to 0.0 due to no predicted samples. Use `zero_division` parameter to control this behavior.\n",
      "  _warn_prf(average, modifier, f\"{metric.capitalize()} is\", len(result))\n",
      "C:\\Users\\USER\\AppData\\Local\\JetBrains\\PyCharm2024.1\\demo\\PyCharmLearningProject\\venv\\Lib\\site-packages\\sklearn\\metrics\\_classification.py:1531: UndefinedMetricWarning: Precision is ill-defined and being set to 0.0 due to no predicted samples. Use `zero_division` parameter to control this behavior.\n",
      "  _warn_prf(average, modifier, f\"{metric.capitalize()} is\", len(result))\n"
     ]
    }
   ],
   "source": [
    "# Training the neural network model\n",
    "nn_model = build_model()\n",
    "\n",
    "accuracy_scores_nn = np.zeros((3,2))\n",
    "\n",
    "for i in range(len(nn_model)):\n",
    "    lss=tf.keras.losses.BinaryCrossentropy(from_logits=True)\n",
    "    optimizer=tf.keras.optimizers.Adam(learning_rate=0.01)\n",
    "    nn_model[i].compile(loss=lss, optimizer=optimizer)\n",
    "    \n",
    "    threshold = 0.6\n",
    "\n",
    "    print(f'Training {nn_model[i].name}...')\n",
    "    \n",
    "    nn_model[i].fit(X_train_nn, y_train, epochs=200, verbose=0)\n",
    "\n",
    "    print(f'Done Training {nn_model[i].name} \\n ')\n",
    "    yhat_nn = nn_model[i].predict(X_train_nn)\n",
    "    yhat_nn = tf.math.sigmoid(yhat_nn)\n",
    "    yhat_nn = np.where(yhat_nn >= threshold, 1, 0)\n",
    "    accuracy_scores_nn[i, 0] = accuracy_score(y_train, yhat_nn)\n",
    "    \n",
    "    yhat_cv_nn = nn_model[i].predict(X_cv_nn)\n",
    "    yhat_cv_nn = tf.math.sigmoid(yhat_cv_nn)\n",
    "    yhat_cv_nn = np.where(yhat_cv_nn >= threshold, 1, 0)\n",
    "    accuracy_scores_nn[i-1, 1] = accuracy_score(y_cv, yhat_cv_nn)\n",
    "    \n",
    "    \n",
    "for i in range(len(nn_model)):\n",
    "    print(f'For {nn_model[i].name}: Accuracy Score: {accuracy_scores_nn[i]}')\n",
    "    "
   ]
  },
  {
   "cell_type": "code",
   "execution_count": null,
   "id": "4f11bdcc",
   "metadata": {},
   "outputs": [],
   "source": [
    "# Training the random forest model\n",
    "rf_model = build_rf()\n",
    "accuracy_scores_rf = np.zeros((3, 2))\n",
    "rf_threshold = 0.58\n",
    "r = 0\n",
    "for model in rf_model:\n",
    "\n",
    "    model.fit(X_train_nn, y_train)\n",
    "    \n",
    "    yhat = model.predict_proba(X_train_nn)[:, 1]\n",
    "    yhat = np.where(yhat >= rf_threshold, 1, 0)\n",
    "    accuracy_scores_rf[r, 0] = accuracy_score(y_train, yhat)\n",
    "\n",
    "    yhat_cv = model.predict_proba(X_cv_nn)[:, 1]\n",
    "    yhat_cv = np.where(yhat_cv >= rf_threshold, 1, 0)\n",
    "    accuracy_scores_rf[r, 1] = accuracy_score(y_cv, yhat_cv)\n",
    "\n",
    "    r += 1\n",
    "print('RESULTS: ')\n",
    "for i in range(len(rf_model)):\n",
    "    print(f'{rf_model[i].name}: Accuracy Score: {accuracy_scores[i]}')"
   ]
  },
  {
   "metadata": {},
   "cell_type": "code",
   "outputs": [],
   "execution_count": null,
   "source": [
    "# Training the xgboost model\n",
    "xg_model = build_xgboost()\n",
    "accuracy_scores_xg = np.zeros((3, 2))\n",
    "xg_threshold = 0.55\n",
    "x = 0\n",
    "for model in xg_model:\n",
    "\n",
    "    model.fit(X_train, y_train)\n",
    "\n",
    "    yhat = model.predict_proba(X_train_nn)[:, 1]\n",
    "    yhat = np.where(yhat >= xg_threshold, 1, 0)\n",
    "    accuracy_scores_xg[x, 0] = accuracy_score(y_train, yhat)\n",
    "\n",
    "    yhat_cv = model.predict_proba(X_cv_nn)[:, 1]\n",
    "    yhat_cv = np.where(yhat_cv >= xg_threshold, 1, 0)\n",
    "    accuracy_scores_xg[x, 1] = accuracy_score(y_cv, yhat_cv)\n",
    "\n",
    "    x += 1\n",
    "\n",
    "print('RESULTS: ')\n",
    "for i in range(len(xg_model)):\n",
    "    print(f'{xg_model[i].name}: Accuracy Score: {accuracy_scores_xg[i]}')"
   ],
   "id": "9ecd2813f6562ffc"
  },
  {
   "metadata": {},
   "cell_type": "code",
   "outputs": [],
   "execution_count": null,
   "source": "",
   "id": "f2d7dcad999cd14e"
  },
  {
   "cell_type": "code",
   "execution_count": 31,
   "id": "80004b26c3600d54",
   "metadata": {
    "ExecuteTime": {
     "end_time": "2024-11-07T16:30:49.769181Z",
     "start_time": "2024-11-07T16:30:49.731730Z"
    }
   },
   "outputs": [
    {
     "name": "stdout",
     "output_type": "stream",
     "text": [
      "data before processing...\n",
      "   PassengerId  Pclass                                          Name     Sex  \\\n",
      "0          892       3                              Kelly, Mr. James    male   \n",
      "1          893       3              Wilkes, Mrs. James (Ellen Needs)  female   \n",
      "2          894       2                     Myles, Mr. Thomas Francis    male   \n",
      "3          895       3                              Wirz, Mr. Albert    male   \n",
      "4          896       3  Hirvonen, Mrs. Alexander (Helga E Lindqvist)  female   \n",
      "\n",
      "    Age  SibSp  Parch   Ticket     Fare Cabin Embarked  \n",
      "0  34.5      0      0   330911   7.8292   NaN        Q  \n",
      "1  47.0      1      0   363272   7.0000   NaN        S  \n",
      "2  62.0      0      0   240276   9.6875   NaN        Q  \n",
      "3  27.0      0      0   315154   8.6625   NaN        S  \n",
      "4  22.0      1      1  3101298  12.2875   NaN        S  \n",
      "data after processing...\n",
      "    Age     Fare  Embarked_Q  Embarked_S  Embarked_Unknown  Parch_1  Parch_2  \\\n",
      "0  34.5   7.8292        True       False                 0    False    False   \n",
      "1  47.0   7.0000       False        True                 0    False    False   \n",
      "2  62.0   9.6875        True       False                 0    False    False   \n",
      "3  27.0   8.6625       False        True                 0    False    False   \n",
      "4  22.0  12.2875       False        True                 0     True    False   \n",
      "\n",
      "   Parch_3  Parch_4  Parch_5  ...  Pclass_3  Cabin_B  Cabin_C  Cabin_D  \\\n",
      "0    False    False    False  ...      True    False    False    False   \n",
      "1    False    False    False  ...      True    False    False    False   \n",
      "2    False    False    False  ...     False    False    False    False   \n",
      "3    False    False    False  ...      True    False    False    False   \n",
      "4    False    False    False  ...      True    False    False    False   \n",
      "\n",
      "   Cabin_E  Cabin_F  Cabin_G  Cabin_T  Cabin_U  Sex_male  \n",
      "0    False    False    False        0     True      True  \n",
      "1    False    False    False        0     True     False  \n",
      "2    False    False    False        0     True      True  \n",
      "3    False    False    False        0     True      True  \n",
      "4    False    False    False        0     True     False  \n",
      "\n",
      "[5 rows x 28 columns]\n",
      "    Age    Fare  Embarked_Q  Embarked_S  Embarked_Unknown  Parch_1  Parch_2  \\\n",
      "0  34.5  7.8292        True       False                 0    False    False   \n",
      "1  47.0  7.0000       False        True                 0    False    False   \n",
      "2  62.0  9.6875        True       False                 0    False    False   \n",
      "\n",
      "   Parch_3  Parch_4  Parch_5  ...  Pclass_3  Cabin_B  Cabin_C  Cabin_D  \\\n",
      "0    False    False    False  ...      True    False    False    False   \n",
      "1    False    False    False  ...      True    False    False    False   \n",
      "2    False    False    False  ...     False    False    False    False   \n",
      "\n",
      "   Cabin_E  Cabin_F  Cabin_G  Cabin_T  Cabin_U  Sex_male  \n",
      "0    False    False    False        0     True      True  \n",
      "1    False    False    False        0     True     False  \n",
      "2    False    False    False        0     True      True  \n",
      "\n",
      "[3 rows x 28 columns]\n"
     ]
    }
   ],
   "source": [
    "# Cleaning the test data\n",
    "test_data = './data/test.csv'\n",
    "test = modify_data(test_data, columns_reference=X.columns)\n",
    "X_test = test\n",
    "\n",
    "print(X_test[:3])"
   ]
  },
  {
   "cell_type": "code",
   "execution_count": 32,
   "id": "104cac6f7750b716",
   "metadata": {
    "ExecuteTime": {
     "end_time": "2024-11-07T16:30:49.882494Z",
     "start_time": "2024-11-07T16:30:49.868633Z"
    }
   },
   "outputs": [
    {
     "name": "stdout",
     "output_type": "stream",
     "text": [
      "Accuracy score for logistic regression model 0.8100558659217877\n",
      "Accuracy score for neural network model 0.8156424581005587\n",
      "The best model is model2\n"
     ]
    }
   ],
   "source": [
    "# Selecting the best model for prediction\n",
    "best_accuracy = np.argmax(accuracy_scores[:, 1])\n",
    "best_accuracy_nn = np.argmax(accuracy_scores_nn[:, 1])\n",
    "\n",
    "log_cv = accuracy_scores[best_accuracy, 1]\n",
    "nn_cv = accuracy_scores_nn[best_accuracy_nn, 1]\n",
    "\n",
    "print(f'Accuracy score for logistic regression model {log_cv}')\n",
    "print(f'Accuracy score for neural network model {nn_cv}')\n",
    "\n",
    "best_model = models[best_accuracy] if log_cv > nn_cv else nn_model[best_accuracy_nn]\n",
    "print(f'The best model is {best_model.name}')"
   ]
  },
  {
   "cell_type": "code",
   "execution_count": 17,
   "id": "19f7378d586484f0",
   "metadata": {
    "ExecuteTime": {
     "end_time": "2024-11-07T16:16:08.982583Z",
     "start_time": "2024-11-07T16:16:08.801178Z"
    }
   },
   "outputs": [
    {
     "name": "stdout",
     "output_type": "stream",
     "text": [
      "\u001B[1m14/14\u001B[0m \u001B[32m━━━━━━━━━━━━━━━━━━━━\u001B[0m\u001B[37m\u001B[0m \u001B[1m0s\u001B[0m 3ms/step \n",
      "[[0]\n",
      " [0]\n",
      " [0]\n",
      " [0]\n",
      " [0]\n",
      " [0]\n",
      " [1]\n",
      " [0]\n",
      " [1]\n",
      " [0]]\n"
     ]
    }
   ],
   "source": [
    "# Selecting the best model for prediction\n",
    "X_test = scaler_nn.transform(X_test)\n",
    "yhat_test = best_model.predict(X_test)\n",
    "yhat_test = tf.math.sigmoid(yhat_test)\n",
    "yhat_test = np.where(yhat_test >= threshold, 1, 0)\n",
    "print(yhat_test[:10])"
   ]
  },
  {
   "cell_type": "code",
   "execution_count": 18,
   "id": "23c2f4370ffef42a",
   "metadata": {
    "ExecuteTime": {
     "end_time": "2024-11-07T16:20:08.410134Z",
     "start_time": "2024-11-07T16:20:08.359544Z"
    }
   },
   "outputs": [],
   "source": [
    "# Saving the predictions\n",
    "df_sub = pd.read_csv('./data/gender_submission.csv')\n",
    "df_sub['Survived'] = yhat_test\n",
    "\n",
    "df_sub.to_csv('./data/submission.csv', index=False)"
   ]
  },
  {
   "cell_type": "code",
   "execution_count": null,
   "id": "8698c98ec0c988e8",
   "metadata": {},
   "outputs": [],
   "source": []
  }
 ],
 "metadata": {
  "kernelspec": {
   "display_name": "Python 3 (ipykernel)",
   "language": "python",
   "name": "python3"
  },
  "language_info": {
   "codemirror_mode": {
    "name": "ipython",
    "version": 3
   },
   "file_extension": ".py",
   "mimetype": "text/x-python",
   "name": "python",
   "nbconvert_exporter": "python",
   "pygments_lexer": "ipython3",
   "version": "3.12.0"
  }
 },
 "nbformat": 4,
 "nbformat_minor": 5
}
