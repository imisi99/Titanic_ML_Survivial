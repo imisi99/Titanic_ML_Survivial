{
 "cells": [
  {
   "cell_type": "markdown",
   "id": "50eb14673e0c24bb",
   "metadata": {},
   "source": [
    "This is a Logistic Regression model for the prediction of Survival in the Titanic Ship"
   ]
  },
  {
   "cell_type": "code",
   "id": "935cd7cfeb5f8788",
   "metadata": {
    "ExecuteTime": {
     "end_time": "2025-01-20T18:20:18.928368Z",
     "start_time": "2025-01-20T18:20:16.319396Z"
    }
   },
   "source": [
    "import numpy as np\n",
    "import matplotlib.pyplot as plt\n",
    "import warnings\n",
    "from sklearn.linear_model import LogisticRegression\n",
    "from sklearn.preprocessing import StandardScaler, PolynomialFeatures\n",
    "from sklearn.model_selection import train_test_split\n",
    "from sklearn.metrics import accuracy_score\n",
    "from utils import *\n",
    "\n",
    "warnings.filterwarnings('ignore')\n",
    "plt.style.use('deeplearning.mplstyle')"
   ],
   "outputs": [
    {
     "name": "stderr",
     "output_type": "stream",
     "text": [
      "2025-01-20 19:20:17.558358: I tensorflow/core/util/port.cc:153] oneDNN custom operations are on. You may see slightly different numerical results due to floating-point round-off errors from different computation orders. To turn them off, set the environment variable `TF_ENABLE_ONEDNN_OPTS=0`.\n",
      "2025-01-20 19:20:17.567463: E external/local_xla/xla/stream_executor/cuda/cuda_fft.cc:477] Unable to register cuFFT factory: Attempting to register factory for plugin cuFFT when one has already been registered\n",
      "WARNING: All log messages before absl::InitializeLog() is called are written to STDERR\n",
      "E0000 00:00:1737397217.579010   63344 cuda_dnn.cc:8310] Unable to register cuDNN factory: Attempting to register factory for plugin cuDNN when one has already been registered\n",
      "E0000 00:00:1737397217.582860   63344 cuda_blas.cc:1418] Unable to register cuBLAS factory: Attempting to register factory for plugin cuBLAS when one has already been registered\n",
      "2025-01-20 19:20:17.594455: I tensorflow/core/platform/cpu_feature_guard.cc:210] This TensorFlow binary is optimized to use available CPU instructions in performance-critical operations.\n",
      "To enable the following instructions: AVX2 AVX_VNNI FMA, in other operations, rebuild TensorFlow with the appropriate compiler flags.\n"
     ]
    }
   ],
   "execution_count": 1
  },
  {
   "cell_type": "code",
   "id": "9956b849a1d6f974",
   "metadata": {
    "ExecuteTime": {
     "end_time": "2025-01-20T18:20:19.046811Z",
     "start_time": "2025-01-20T18:20:18.943805Z"
    }
   },
   "source": [
    "# Visualization of data\n",
    "file_path = './data/train.csv'\n",
    "pdv = pd.read_csv(file_path)\n",
    "plt.scatter(pdv['Age'], pdv['Survived'])\n",
    "plt.xlabel('Age')\n",
    "plt.ylabel('Survived')\n",
    "plt.show()"
   ],
   "outputs": [
    {
     "data": {
      "text/plain": [
       "<Figure size 1200x800 with 1 Axes>"
      ],
      "image/png": "[encoded data removed]"
     },
     "metadata": {},
     "output_type": "display_data"
    }
   ],
   "execution_count": 2
  },
  {
   "cell_type": "code",
   "id": "1b028f1538ffed46",
   "metadata": {
    "ExecuteTime": {
     "end_time": "2025-01-20T18:20:19.145525Z",
     "start_time": "2025-01-20T18:20:19.126944Z"
    }
   },
   "source": [
    "# Preprocessing data\n",
    "df = modify_data(file_path)"
   ],
   "outputs": [
    {
     "name": "stdout",
     "output_type": "stream",
     "text": [
      "data before processing...\n",
      "   PassengerId  Survived  Pclass  \\\n",
      "0            1         0       3   \n",
      "1            2         1       1   \n",
      "2            3         1       3   \n",
      "3            4         1       1   \n",
      "4            5         0       3   \n",
      "\n",
      "                                                Name     Sex   Age  SibSp  \\\n",
      "0                            Braund, Mr. Owen Harris    male  22.0      1   \n",
      "1  Cumings, Mrs. John Bradley (Florence Briggs Th...  female  38.0      1   \n",
      "2                             Heikkinen, Miss. Laina  female  26.0      0   \n",
      "3       Futrelle, Mrs. Jacques Heath (Lily May Peel)  female  35.0      1   \n",
      "4                           Allen, Mr. William Henry    male  35.0      0   \n",
      "\n",
      "   Parch            Ticket     Fare Cabin Embarked  \n",
      "0      0         A/5 21171   7.2500   NaN        S  \n",
      "1      0          PC 17599  71.2833   C85        C  \n",
      "2      0  STON/O2. 3101282   7.9250   NaN        S  \n",
      "3      0            113803  53.1000  C123        S  \n",
      "4      0            373450   8.0500   NaN        S  \n",
      "data after processing...\n",
      "   Survived   Age     Fare  Embarked_Q  Embarked_S  Embarked_Unknown  Parch_1  \\\n",
      "0         0  22.0   7.2500       False        True             False    False   \n",
      "1         1  38.0  71.2833       False       False             False    False   \n",
      "2         1  26.0   7.9250       False        True             False    False   \n",
      "3         1  35.0  53.1000       False        True             False    False   \n",
      "4         0  35.0   8.0500       False        True             False    False   \n",
      "\n",
      "   Parch_2  Parch_3  Parch_4  ...  Pclass_3  Cabin_B  Cabin_C  Cabin_D  \\\n",
      "0    False    False    False  ...      True    False    False    False   \n",
      "1    False    False    False  ...     False    False     True    False   \n",
      "2    False    False    False  ...      True    False    False    False   \n",
      "3    False    False    False  ...     False    False     True    False   \n",
      "4    False    False    False  ...      True    False    False    False   \n",
      "\n",
      "   Cabin_E  Cabin_F  Cabin_G  Cabin_T  Cabin_U  Sex_male  \n",
      "0    False    False    False    False     True      True  \n",
      "1    False    False    False    False    False     False  \n",
      "2    False    False    False    False     True     False  \n",
      "3    False    False    False    False    False     False  \n",
      "4    False    False    False    False     True      True  \n",
      "\n",
      "[5 rows x 29 columns]\n"
     ]
    }
   ],
   "execution_count": 3
  },
  {
   "cell_type": "code",
   "id": "5b018717628bb7c4",
   "metadata": {
    "ExecuteTime": {
     "end_time": "2025-01-20T18:20:19.189557Z",
     "start_time": "2025-01-20T18:20:19.181508Z"
    }
   },
   "source": [
    "# Splitting data into train and cross validation\n",
    "X = df.drop(['Survived'], axis=1)\n",
    "y = df['Survived']\n",
    "\n",
    "X_train, X_cv, y_train, y_cv = train_test_split(X, y, test_size=0.2, random_state=42)\n",
    "\n",
    "print(f'The X train and X cv are: {X_train.shape}, {X_cv.shape}')\n",
    "print(f'The y train and y cv are: {y_train.shape}, {y_cv.shape}')\n"
   ],
   "outputs": [
    {
     "name": "stdout",
     "output_type": "stream",
     "text": [
      "The X train and X cv are: (712, 28), (179, 28)\n",
      "The y train and y cv are: (712,), (179,)\n"
     ]
    }
   ],
   "execution_count": 4
  },
  {
   "cell_type": "code",
   "id": "feea9ecce24e4a9c",
   "metadata": {
    "ExecuteTime": {
     "end_time": "2025-01-20T18:20:22.709572Z",
     "start_time": "2025-01-20T18:20:19.251500Z"
    }
   },
   "source": [
    "# Building a Logistic Regression Model\n",
    "degree = 3\n",
    "models = []\n",
    "polys = []\n",
    "scalers = []\n",
    "accuracy_scores = np.zeros((degree, 2))\n",
    "threshold = 0.58\n",
    "for i in range(1, degree + 1):\n",
    "    print(f'Training Model with degree {i}')\n",
    "    poly = PolynomialFeatures(degree=i, include_bias=False)\n",
    "    X_train_poly = poly.fit_transform(X_train)\n",
    "    X_cv_poly = poly.transform(X_cv)\n",
    "    polys.append(poly)\n",
    "    \n",
    "    scaler = StandardScaler()\n",
    "    X_train_mapp = scaler.fit_transform(X_train_poly)\n",
    "    X_cv_mapp = scaler.transform(X_cv_poly)\n",
    "    scalers.append(scaler)\n",
    "    \n",
    "    model = LogisticRegression(max_iter=1000)\n",
    "    model.fit(X_train_mapp, y_train)\n",
    "    models.append(model)\n",
    "    \n",
    "    yhat = model.predict_proba(X_train_mapp)[:, 1]\n",
    "    yhat = np.where(yhat >= threshold, 1, 0)\n",
    "    accuracy_scores[i-1, 0] = accuracy_score(y_train, yhat)\n",
    "    \n",
    "    yhat_cv = model.predict_proba(X_cv_mapp)[:, 1]\n",
    "    yhat_cv = np.where(yhat_cv >= threshold, 1, 0)\n",
    "    accuracy_scores[i-1, 1] = accuracy_score(y_cv, yhat_cv)\n",
    "    \n",
    "print('Results: ')\n",
    "for i in range (degree): \n",
    "    print(f'Degree {i+1}: Accuracy Score: {accuracy_scores[i]}')"
   ],
   "outputs": [
    {
     "name": "stdout",
     "output_type": "stream",
     "text": [
      "Training Model with degree 1\n",
      "Training Model with degree 2\n",
      "Training Model with degree 3\n",
      "Results: \n",
      "Degree 1: Accuracy Score: [0.81882022 0.80446927]\n",
      "Degree 2: Accuracy Score: [0.87640449 0.79888268]\n",
      "Degree 3: Accuracy Score: [0.89044944 0.79329609]\n"
     ]
    }
   ],
   "execution_count": 5
  },
  {
   "cell_type": "code",
   "id": "81b061f59f2a22ca",
   "metadata": {
    "ExecuteTime": {
     "end_time": "2025-01-20T18:20:22.810570Z",
     "start_time": "2025-01-20T18:20:22.803041Z"
    }
   },
   "source": [
    "# Scaling the training input\n",
    "scaler_nn = StandardScaler()\n",
    "X_train_nn = scaler_nn.fit_transform(X_train)\n",
    "X_cv_nn = scaler_nn.transform(X_cv)"
   ],
   "outputs": [],
   "execution_count": 6
  },
  {
   "cell_type": "code",
   "id": "47d3a6f7392416cc",
   "metadata": {
    "ExecuteTime": {
     "end_time": "2025-01-20T18:21:07.483969Z",
     "start_time": "2025-01-20T18:20:22.884830Z"
    }
   },
   "source": [
    "# Training the neural network model\n",
    "nn_model = build_model()\n",
    "\n",
    "accuracy_scores_nn = np.zeros((3,2))\n",
    "\n",
    "for i in range(len(nn_model)):\n",
    "    lss=tf.keras.losses.BinaryCrossentropy(from_logits=True)\n",
    "    optimizer=tf.keras.optimizers.Adam(learning_rate=0.01)\n",
    "    nn_model[i].compile(loss=lss, optimizer=optimizer)\n",
    "    \n",
    "    threshold = 0.55\n",
    "\n",
    "    print(f'Training {nn_model[i].name}...')\n",
    "    \n",
    "    nn_model[i].fit(X_train_nn, y_train, epochs=200, verbose=0)\n",
    "\n",
    "    print(f'Done Training {nn_model[i].name} \\n ')\n",
    "    yhat_nn = nn_model[i].predict(X_train_nn)\n",
    "    yhat_nn = tf.math.sigmoid(yhat_nn)\n",
    "    yhat_nn = np.where(yhat_nn >= threshold, 1, 0)\n",
    "    accuracy_scores_nn[i, 0] = accuracy_score(y_train, yhat_nn)\n",
    "    \n",
    "    yhat_cv_nn = nn_model[i].predict(X_cv_nn)\n",
    "    yhat_cv_nn = tf.math.sigmoid(yhat_cv_nn)\n",
    "    yhat_cv_nn = np.where(yhat_cv_nn >= threshold, 1, 0)\n",
    "    accuracy_scores_nn[i-1, 1] = accuracy_score(y_cv, yhat_cv_nn)\n",
    "    \n",
    "    \n",
    "for i in range(len(nn_model)):\n",
    "    print(f'For {nn_model[i].name}: Accuracy Score: {accuracy_scores_nn[i]}')\n",
    "    "
   ],
   "outputs": [
    {
     "name": "stderr",
     "output_type": "stream",
     "text": [
      "I0000 00:00:1737397223.174506   63344 gpu_device.cc:2022] Created device /job:localhost/replica:0/task:0/device:GPU:0 with 2609 MB memory:  -> device: 0, name: NVIDIA GeForce GTX 1650, pci bus id: 0000:01:00.0, compute capability: 7.5\n"
     ]
    },
    {
     "name": "stdout",
     "output_type": "stream",
     "text": [
      "Training model1...\n"
     ]
    },
    {
     "name": "stderr",
     "output_type": "stream",
     "text": [
      "WARNING: All log messages before absl::InitializeLog() is called are written to STDERR\n",
      "I0000 00:00:1737397224.246193   63438 service.cc:148] XLA service 0x704cec00c2f0 initialized for platform CUDA (this does not guarantee that XLA will be used). Devices:\n",
      "I0000 00:00:1737397224.246222   63438 service.cc:156]   StreamExecutor device (0): NVIDIA GeForce GTX 1650, Compute Capability 7.5\n",
      "2025-01-20 19:20:24.262454: I tensorflow/compiler/mlir/tensorflow/utils/dump_mlir_util.cc:268] disabling MLIR crash reproducer, set env var `MLIR_CRASH_REPRODUCER_DIRECTORY` to enable.\n",
      "I0000 00:00:1737397224.373613   63438 cuda_dnn.cc:529] Loaded cuDNN version 90300\n",
      "I0000 00:00:1737397225.202245   63438 device_compiler.h:188] Compiled cluster using XLA!  This line is logged at most once for the lifetime of the process.\n"
     ]
    },
    {
     "name": "stdout",
     "output_type": "stream",
     "text": [
      "Done Training model1 \n",
      " \n",
      "\u001B[1m23/23\u001B[0m \u001B[32m━━━━━━━━━━━━━━━━━━━━\u001B[0m\u001B[37m\u001B[0m \u001B[1m0s\u001B[0m 6ms/step\n",
      "\u001B[1m6/6\u001B[0m \u001B[32m━━━━━━━━━━━━━━━━━━━━\u001B[0m\u001B[37m\u001B[0m \u001B[1m0s\u001B[0m 61ms/step\n",
      "Training model2...\n",
      "Done Training model2 \n",
      " \n",
      "\u001B[1m23/23\u001B[0m \u001B[32m━━━━━━━━━━━━━━━━━━━━\u001B[0m\u001B[37m\u001B[0m \u001B[1m0s\u001B[0m 7ms/step\n",
      "\u001B[1m6/6\u001B[0m \u001B[32m━━━━━━━━━━━━━━━━━━━━\u001B[0m\u001B[37m\u001B[0m \u001B[1m0s\u001B[0m 91ms/step\n",
      "Training model3...\n",
      "Done Training model3 \n",
      " \n",
      "\u001B[1m23/23\u001B[0m \u001B[32m━━━━━━━━━━━━━━━━━━━━\u001B[0m\u001B[37m\u001B[0m \u001B[1m0s\u001B[0m 7ms/step\n",
      "\u001B[1m6/6\u001B[0m \u001B[32m━━━━━━━━━━━━━━━━━━━━\u001B[0m\u001B[37m\u001B[0m \u001B[1m0s\u001B[0m 92ms/step\n",
      "For model1: Accuracy Score: [0.91151685 0.78212291]\n",
      "For model2: Accuracy Score: [0.8988764  0.78212291]\n",
      "For model3: Accuracy Score: [0.9002809 0.7877095]\n"
     ]
    }
   ],
   "execution_count": 7
  },
  {
   "cell_type": "code",
   "id": "4f11bdcc",
   "metadata": {
    "ExecuteTime": {
     "end_time": "2025-01-20T18:21:09.900182Z",
     "start_time": "2025-01-20T18:21:07.493462Z"
    }
   },
   "source": [
    "# Training the random forest model\n",
    "rf_model = build_rf()\n",
    "accuracy_scores_rf = np.zeros((3, 2))\n",
    "rf_threshold = 0.62\n",
    "r = 0\n",
    "for model in rf_model:\n",
    "\n",
    "    model.fit(X_train_nn, y_train)\n",
    "    \n",
    "    yhat = model.predict_proba(X_train_nn)[:, 1]\n",
    "    yhat = np.where(yhat >= rf_threshold, 1, 0)\n",
    "    accuracy_scores_rf[r, 0] = accuracy_score(y_train, yhat)\n",
    "\n",
    "    yhat_cv = model.predict_proba(X_cv_nn)[:, 1]\n",
    "    yhat_cv = np.where(yhat_cv >= rf_threshold, 1, 0)\n",
    "    accuracy_scores_rf[r, 1] = accuracy_score(y_cv, yhat_cv)\n",
    "\n",
    "    r += 1\n",
    "print('RESULTS: ')\n",
    "for i in range(len(rf_model)):\n",
    "    print(f'{rf_model[i].name}: Accuracy Score: {accuracy_scores[i]}')"
   ],
   "outputs": [
    {
     "name": "stdout",
     "output_type": "stream",
     "text": [
      "RESULTS: \n",
      "rf1: Accuracy Score: [0.81882022 0.80446927]\n",
      "rf2: Accuracy Score: [0.87640449 0.79888268]\n",
      "rf3: Accuracy Score: [0.89044944 0.79329609]\n"
     ]
    }
   ],
   "execution_count": 8
  },
  {
   "metadata": {
    "ExecuteTime": {
     "end_time": "2025-01-20T18:21:10.879504Z",
     "start_time": "2025-01-20T18:21:09.962516Z"
    }
   },
   "cell_type": "code",
   "source": [
    "# Training the xgboost model\n",
    "xg_model = build_xgboost()\n",
    "accuracy_scores_xg = np.zeros((3, 2))\n",
    "xg_threshold = 0.64\n",
    "x = 0\n",
    "for model in xg_model:\n",
    "\n",
    "    model.fit(X_train_nn, y_train)\n",
    "\n",
    "    yhat = model.predict_proba(X_train_nn)[:, 1]\n",
    "    yhat = np.where(yhat >= xg_threshold, 1, 0)\n",
    "    accuracy_scores_xg[x, 0] = accuracy_score(y_train, yhat)\n",
    "\n",
    "    yhat_cv = model.predict_proba(X_cv_nn)[:, 1]\n",
    "    yhat_cv = np.where(yhat_cv >= xg_threshold, 1, 0)\n",
    "    accuracy_scores_xg[x, 1] = accuracy_score(y_cv, yhat_cv)\n",
    "\n",
    "    x += 1\n",
    "\n",
    "print('RESULTS: ')\n",
    "for i in range(len(xg_model)):\n",
    "    print(f'{xg_model[i].name}: Accuracy Score: {accuracy_scores_xg[i]}')"
   ],
   "id": "9ecd2813f6562ffc",
   "outputs": [
    {
     "name": "stdout",
     "output_type": "stream",
     "text": [
      "RESULTS: \n",
      "xgb1: Accuracy Score: [0.98033708 0.81564246]\n",
      "xgb2: Accuracy Score: [0.98174157 0.80446927]\n",
      "xgb3: Accuracy Score: [0.97752809 0.81005587]\n"
     ]
    }
   ],
   "execution_count": 9
  },
  {
   "metadata": {
    "ExecuteTime": {
     "end_time": "2025-01-20T18:21:11.017760Z",
     "start_time": "2025-01-20T18:21:10.926017Z"
    }
   },
   "cell_type": "code",
   "source": [
    "# Visualizing the results\n",
    "plt.plot(range(1, 4), accuracy_scores_xg[:, 1], label='XGBoost')\n",
    "plt.plot(range(1, 4), accuracy_scores_nn[:, 1], label='NN')\n",
    "plt.plot(range(1, 4), accuracy_scores_rf[:, 1], label='RF')\n",
    "plt.plot(range(1, 4), accuracy_scores[:, 1], label='LR')\n",
    "plt.xlabel('Model')\n",
    "plt.ylabel('Accuracy Score')\n",
    "plt.legend()\n",
    "plt.show()"
   ],
   "id": "f2d7dcad999cd14e",
   "outputs": [
    {
     "data": {
      "text/plain": [
       "<Figure size 1200x800 with 1 Axes>"
      ],
      "image/png": "[encoded data removed]"
     },
     "metadata": {},
     "output_type": "display_data"
    }
   ],
   "execution_count": 10
  },
  {
   "cell_type": "code",
   "id": "80004b26c3600d54",
   "metadata": {
    "ExecuteTime": {
     "end_time": "2025-01-20T18:31:15.871185Z",
     "start_time": "2025-01-20T18:31:15.847208Z"
    }
   },
   "source": [
    "# Cleaning the test data\n",
    "test_data = './data/test.csv'\n",
    "test = modify_data(test_data, columns_reference=X.columns)\n",
    "X_test = test\n",
    "\n",
    "print(X_test[:3])"
   ],
   "outputs": [
    {
     "name": "stdout",
     "output_type": "stream",
     "text": [
      "data before processing...\n",
      "   PassengerId  Pclass                                          Name     Sex  \\\n",
      "0          892       3                              Kelly, Mr. James    male   \n",
      "1          893       3              Wilkes, Mrs. James (Ellen Needs)  female   \n",
      "2          894       2                     Myles, Mr. Thomas Francis    male   \n",
      "3          895       3                              Wirz, Mr. Albert    male   \n",
      "4          896       3  Hirvonen, Mrs. Alexander (Helga E Lindqvist)  female   \n",
      "\n",
      "    Age  SibSp  Parch   Ticket     Fare Cabin Embarked  \n",
      "0  34.5      0      0   330911   7.8292   NaN        Q  \n",
      "1  47.0      1      0   363272   7.0000   NaN        S  \n",
      "2  62.0      0      0   240276   9.6875   NaN        Q  \n",
      "3  27.0      0      0   315154   8.6625   NaN        S  \n",
      "4  22.0      1      1  3101298  12.2875   NaN        S  \n",
      "data after processing...\n",
      "    Age     Fare  Embarked_Q  Embarked_S  Embarked_Unknown  Parch_1  Parch_2  \\\n",
      "0  34.5   7.8292        True       False                 0    False    False   \n",
      "1  47.0   7.0000       False        True                 0    False    False   \n",
      "2  62.0   9.6875        True       False                 0    False    False   \n",
      "3  27.0   8.6625       False        True                 0    False    False   \n",
      "4  22.0  12.2875       False        True                 0     True    False   \n",
      "\n",
      "   Parch_3  Parch_4  Parch_5  ...  Pclass_3  Cabin_B  Cabin_C  Cabin_D  \\\n",
      "0    False    False    False  ...      True    False    False    False   \n",
      "1    False    False    False  ...      True    False    False    False   \n",
      "2    False    False    False  ...     False    False    False    False   \n",
      "3    False    False    False  ...      True    False    False    False   \n",
      "4    False    False    False  ...      True    False    False    False   \n",
      "\n",
      "   Cabin_E  Cabin_F  Cabin_G  Cabin_T  Cabin_U  Sex_male  \n",
      "0    False    False    False        0     True      True  \n",
      "1    False    False    False        0     True     False  \n",
      "2    False    False    False        0     True      True  \n",
      "3    False    False    False        0     True      True  \n",
      "4    False    False    False        0     True     False  \n",
      "\n",
      "[5 rows x 28 columns]\n",
      "    Age    Fare  Embarked_Q  Embarked_S  Embarked_Unknown  Parch_1  Parch_2  \\\n",
      "0  34.5  7.8292        True       False                 0    False    False   \n",
      "1  47.0  7.0000       False        True                 0    False    False   \n",
      "2  62.0  9.6875        True       False                 0    False    False   \n",
      "\n",
      "   Parch_3  Parch_4  Parch_5  ...  Pclass_3  Cabin_B  Cabin_C  Cabin_D  \\\n",
      "0    False    False    False  ...      True    False    False    False   \n",
      "1    False    False    False  ...      True    False    False    False   \n",
      "2    False    False    False  ...     False    False    False    False   \n",
      "\n",
      "   Cabin_E  Cabin_F  Cabin_G  Cabin_T  Cabin_U  Sex_male  \n",
      "0    False    False    False        0     True      True  \n",
      "1    False    False    False        0     True     False  \n",
      "2    False    False    False        0     True      True  \n",
      "\n",
      "[3 rows x 28 columns]\n"
     ]
    }
   ],
   "execution_count": 21
  },
  {
   "cell_type": "code",
   "id": "104cac6f7750b716",
   "metadata": {
    "ExecuteTime": {
     "end_time": "2025-01-20T18:31:16.800746Z",
     "start_time": "2025-01-20T18:31:16.796478Z"
    }
   },
   "source": [
    "# Selecting the best model for prediction\n",
    "log_cv = accuracy_scores[np.argmax(accuracy_scores[:, 1]), 1]\n",
    "nn_cv = accuracy_scores_nn[np.argmax(accuracy_scores_nn[:, 1]), 1]\n",
    "rf_cv = accuracy_scores_rf[np.argmax(accuracy_scores_rf[:, 1]), 1]\n",
    "xg_cv = accuracy_scores_xg[np.argmax(accuracy_scores_xg[:, 1]), 1]\n",
    "\n",
    "print(f'Accuracy score for logistic regression model {log_cv}')\n",
    "print(f'Accuracy score for neural network model {nn_cv}')\n",
    "print(f'Accuracy score for random forest model {rf_cv}')\n",
    "print(f'Accuracy score for xgboost model {xg_cv}')\n"
   ],
   "outputs": [
    {
     "name": "stdout",
     "output_type": "stream",
     "text": [
      "Accuracy score for logistic regression model 0.8044692737430168\n",
      "Accuracy score for neural network model 0.7877094972067039\n",
      "Accuracy score for random forest model 0.8212290502793296\n",
      "Accuracy score for xgboost model 0.8156424581005587\n"
     ]
    }
   ],
   "execution_count": 22
  },
  {
   "cell_type": "code",
   "id": "19f7378d586484f0",
   "metadata": {
    "ExecuteTime": {
     "end_time": "2025-01-20T18:31:34.106415Z",
     "start_time": "2025-01-20T18:31:34.033878Z"
    }
   },
   "source": [
    "# Selecting the best model for prediction\n",
    "X_test = scaler_nn.transform(X_test)\n",
    "yhat_test = rf_model[2].predict(X_test)\n",
    "yhat_test = np.where(yhat_test >= rf_threshold, 1, 0)\n"
   ],
   "outputs": [],
   "execution_count": 23
  },
  {
   "cell_type": "code",
   "id": "23c2f4370ffef42a",
   "metadata": {
    "ExecuteTime": {
     "end_time": "2025-01-20T18:31:38.478543Z",
     "start_time": "2025-01-20T18:31:38.472842Z"
    }
   },
   "source": [
    "# Saving the predictions\n",
    "df_sub = pd.read_csv('./data/gender_submission.csv')\n",
    "df_sub['Survived'] = yhat_test\n",
    "\n",
    "df_sub.to_csv('./data/submission6.csv', index=False)"
   ],
   "outputs": [],
   "execution_count": 24
  }
 ],
 "metadata": {
  "kernelspec": {
   "display_name": "Python 3 (ipykernel)",
   "language": "python",
   "name": "python3"
  },
  "language_info": {
   "codemirror_mode": {
    "name": "ipython",
    "version": 3
   },
   "file_extension": ".py",
   "mimetype": "text/x-python",
   "name": "python",
   "nbconvert_exporter": "python",
   "pygments_lexer": "ipython3",
   "version": "3.12.0"
  }
 },
 "nbformat": 4,
 "nbformat_minor": 5
}
